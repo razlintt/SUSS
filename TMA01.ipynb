{
 "cells": [
  {
   "cell_type": "code",
   "execution_count": 49,
   "metadata": {},
   "outputs": [
    {
     "name": "stdout",
     "output_type": "stream",
     "text": [
      "8\n",
      "Top Speed, Genre: Racing\n"
     ]
    }
   ],
   "source": [
    "# Question 1a\n",
    "from abc import ABC, abstractmethod\n",
    "class LibraryItem(ABC): \n",
    "    def __init__(self, title: str, publication_year: int):\n",
    "        self.__title = title\n",
    "        self.__publication_year = publication_year\n",
    "\n",
    "    @abstractmethod\n",
    "    def info(self) -> str:\n",
    "        pass\n",
    "\n",
    "    @property\n",
    "    def title(self):\n",
    "        return self.__title\n",
    "    \n",
    "    @property\n",
    "    def publication_year(self):\n",
    "        return self.__publication_year\n",
    "\n",
    "# Question 1b\n",
    "class Book(LibraryItem):\n",
    "    def __init__(self, title: str, publication_year: int, author: str, num_pages: int):\n",
    "        super().__init__(title, publication_year)\n",
    "        self.__author = author\n",
    "        self.__num_pages = num_pages\n",
    "\n",
    "    @property\n",
    "    def author(self):\n",
    "        return self.__author\n",
    "    \n",
    "    @property\n",
    "    def num_pages(self):\n",
    "        return self.__num_pages\n",
    "\n",
    "    def info(self) -> str:\n",
    "        return f\"Book: {self.title}, Author: {self.author}, Year: {self.publication_year}, Pages: {self.num_pages}\"\n",
    "\n",
    "class DVD(LibraryItem):\n",
    "    def __init__(self, title: str, publication_year: int, director: str, duration: str):\n",
    "        super().__init__(title, publication_year)\n",
    "        self.__director = director\n",
    "        self.__duration = duration\n",
    "    \n",
    "    @property\n",
    "    def director(self):\n",
    "        return self.__director\n",
    "    \n",
    "    @property\n",
    "    def duration(self):\n",
    "        return self.__duration\n",
    "    \n",
    "    def info(self) -> str:\n",
    "        return f\"DVD: {self.title}, Director: {self.director}, Year: {self.publication_year}, Duration: {self.duration}\"\n",
    "\n",
    "    # Question 1d\n",
    "    # I am not sure if can use this to specifically specify DVD class as the param\n",
    "    def compare_duration(self, comparedDVD) -> int:\n",
    "        currentDVD_duration_h_m = self.duration.split()\n",
    "        comparedDVD_duration_h_m = comparedDVD.duration.split()\n",
    "\n",
    "        # Check total minutes for currentDVD\n",
    "        currentDVD_hour_to_mins = int(currentDVD_duration_h_m[0][:-1])*60\n",
    "        currentDVD_total_mins = currentDVD_hour_to_mins + int(currentDVD_duration_h_m[1][:-1])\n",
    "\n",
    "        # Check total minutes for comparedDVD\n",
    "        comparedDVD_hour_to_mins = int(comparedDVD_duration_h_m[0][:-1])*60\n",
    "        comparedDVD_total_mins = comparedDVD_hour_to_mins + int(comparedDVD_duration_h_m[1][:-1])\n",
    "\n",
    "        difference_in_mins = currentDVD_total_mins - comparedDVD_total_mins\n",
    "        return difference_in_mins\n",
    "    \n",
    "# Question 1c\n",
    "def demo_library_items():\n",
    "    book1 = Book(\"The Great Gatsby\", 1925, \"F. Scott Fitzgerald\", 180)\n",
    "    dvd1 = DVD(\"Inception\", 2010, \"Christopher Nolan\", \"2h 28m\")\n",
    "\n",
    "    print(book1.info)\n",
    "    print(dvd1.info)\n",
    "\n",
    "# Question 2c\n",
    "class Magazine(LibraryItem):\n",
    "    def __init__(self, title: str, publication_year: int, genre: str):\n",
    "        super().__init__(title, publication_year)\n",
    "        self.__genre = genre\n",
    "\n",
    "    @property\n",
    "    def genre(self):\n",
    "        return self.__genre\n",
    "    \n",
    "    def info(self):\n",
    "        return f\"{self.title}, Genre: {self.genre}\"\n",
    "    \n",
    "\n",
    "if __name__ == \"__main__\":\n",
    "    # demo_library_items()\n",
    "    inception = DVD(\"Inception\", 2010, \"Christopher Nolan\", \"2h 57m\")\n",
    "    interstellar = DVD(\"Interstellar\", 2014, \"Christoper Nolan\", \"2h 49m\")\n",
    "\n",
    "    print(inception.compare_duration(interstellar))\n",
    "    maggi = Magazine(\"Top Speed\", 2025, \"Racing\")\n",
    "    print(maggi.info())\n",
    "\n",
    "\n"
   ]
  },
  {
   "cell_type": "code",
   "execution_count": 50,
   "metadata": {},
   "outputs": [
    {
     "ename": "TypeError",
     "evalue": "Can't instantiate abstract class hello with abstract method bobian",
     "output_type": "error",
     "traceback": [
      "\u001b[0;31m---------------------------------------------------------------------------\u001b[0m",
      "\u001b[0;31mTypeError\u001b[0m                                 Traceback (most recent call last)",
      "Cell \u001b[0;32mIn[50], line 18\u001b[0m\n\u001b[1;32m     15\u001b[0m         \u001b[38;5;28msuper\u001b[39m()\u001b[38;5;241m.\u001b[39m\u001b[38;5;21m__init__\u001b[39m(name)\n\u001b[1;32m     16\u001b[0m         __address__ \u001b[38;5;241m=\u001b[39m address\n\u001b[0;32m---> 18\u001b[0m h \u001b[38;5;241m=\u001b[39m \u001b[43mhello\u001b[49m\u001b[43m(\u001b[49m\u001b[38;5;124;43m\"\u001b[39;49m\u001b[38;5;124;43mJohn\u001b[39;49m\u001b[38;5;124;43m\"\u001b[39;49m\u001b[43m,\u001b[49m\u001b[43m \u001b[49m\u001b[38;5;124;43m\"\u001b[39;49m\u001b[38;5;124;43m123 Street\u001b[39;49m\u001b[38;5;124;43m\"\u001b[39;49m\u001b[43m)\u001b[49m\n",
      "\u001b[0;31mTypeError\u001b[0m: Can't instantiate abstract class hello with abstract method bobian"
     ]
    }
   ],
   "source": [
    "# Testing for learning purposes, not for TMA.\n",
    "class absClass(ABC):\n",
    "    def __init__(self, name):\n",
    "        __name__ = name\n",
    "\n",
    "    @abstractmethod\n",
    "    def bobian(self):\n",
    "        pass\n",
    "\n",
    "    def maybeNot(self):\n",
    "        pass\n",
    "\n",
    "class hello(absClass):\n",
    "    def __init__(self, name, address):\n",
    "        super().__init__(name)\n",
    "        __address__ = address\n",
    "\n",
    "h = hello(\"John\", \"123 Street\")"
   ]
  },
  {
   "cell_type": "code",
   "execution_count": 51,
   "metadata": {},
   "outputs": [
    {
     "name": "stdout",
     "output_type": "stream",
     "text": [
      "Error: Can't instantiate abstract class LibraryItem with abstract method info\n"
     ]
    }
   ],
   "source": [
    "# Question 3\n",
    "# Error 1\n",
    "try:\n",
    "    err_one = LibraryItem()\n",
    "except TypeError as e:\n",
    "    print(f\"Error: {e}\")"
   ]
  },
  {
   "cell_type": "code",
   "execution_count": 52,
   "metadata": {},
   "outputs": [
    {
     "name": "stdout",
     "output_type": "stream",
     "text": [
      "Error: Can't instantiate abstract class IncompleteItem with abstract method info\n"
     ]
    }
   ],
   "source": [
    "# Question 3\n",
    "# Error 2\n",
    "class IncompleteItem(LibraryItem):\n",
    "    pass\n",
    "try:\n",
    "    err_two = IncompleteItem()\n",
    "except TypeError as e:\n",
    "    print(f\"Error: {e}\")"
   ]
  },
  {
   "cell_type": "code",
   "execution_count": 53,
   "metadata": {},
   "outputs": [
    {
     "name": "stdout",
     "output_type": "stream",
     "text": [
      "Error: 'Book' object has no attribute 'genre'\n"
     ]
    }
   ],
   "source": [
    "# Question 3\n",
    "# Error 3\n",
    "\n",
    "err_three = Book(\"48 Laws of Power\", 1998, \"Robert Greene\", 496)\n",
    "try:\n",
    "    err_three.genre()\n",
    "except AttributeError as e:\n",
    "    print(f\"Error: {e}\")"
   ]
  },
  {
   "cell_type": "code",
   "execution_count": 54,
   "metadata": {},
   "outputs": [
    {
     "name": "stdout",
     "output_type": "stream",
     "text": [
      "Error: __init__() missing 2 required positional arguments: 'director' and 'duration'\n"
     ]
    }
   ],
   "source": [
    "# Question 3\n",
    "# Error 4\n",
    "try:\n",
    "    err_four = DVD(\"Cars\", 2006)\n",
    "except TypeError as e:\n",
    "    print(f\"Error: {e}\")"
   ]
  },
  {
   "cell_type": "code",
   "execution_count": 55,
   "metadata": {},
   "outputs": [
    {
     "name": "stdout",
     "output_type": "stream",
     "text": [
      "Error: 'BrokenBook' object has no attribute 'num_pages'\n"
     ]
    }
   ],
   "source": [
    "# Question 3\n",
    "# Error 5\n",
    "\n",
    "class BrokenBook(LibraryItem):\n",
    "    def info(self):\n",
    "        pass\n",
    "\n",
    "\n",
    "err_five = BrokenBook(\"Laws of 48 Powers\", 2042)\n",
    "try:\n",
    "    err_five.num_pages\n",
    "except AttributeError as e:\n",
    "    print(f\"Error: {e}\")\n"
   ]
  },
  {
   "cell_type": "code",
   "execution_count": 92,
   "metadata": {},
   "outputs": [],
   "source": [
    "from collections import Counter\n",
    "class LibraryManager:\n",
    "    \"\"\"\n",
    "    A class that manages the Library Items.\n",
    "\n",
    "    \"\"\"\n",
    "    def __init__(self):\n",
    "        \"\"\"\n",
    "        Initiates a dictionary for the collection of library items.\n",
    "        \"\"\"\n",
    "        self.items = {}\n",
    "        self.cnt = Counter()\n",
    "\n",
    "    def add_item(self, item: LibraryItem):\n",
    "        \"\"\"\n",
    "        Adds library items into the items dictionary.\n",
    "\n",
    "        Attributes:\n",
    "            item (LibraryItem object): The library item object, DVD or Book.\n",
    "        \"\"\"\n",
    "        try:\n",
    "            author = item.author\n",
    "            item_type = \"Book\"\n",
    "        except AttributeError:\n",
    "            director = item.director\n",
    "            item_type = \"DVD\"\n",
    "        \n",
    "        uid = f\"{item.title}-{item_type}\"\n",
    "        self.items[uid] = item\n",
    "\n",
    "    def search_item(self, title: str, item_type: str) -> str:\n",
    "        \"\"\"\n",
    "        Searches for a particular item in the dictionary.\n",
    "\n",
    "        Attributes:\n",
    "            title (string): The title of the item, DVD's or Book's\n",
    "            item_type (string): The type of item, DVD or Book\n",
    "\n",
    "        Returns:\n",
    "            The object's info() method if the item is found in the items dictionary.\n",
    "        \"\"\"\n",
    "        uid = f\"{title}-{item_type}\"\n",
    "        if uid in self.items:\n",
    "            return self.items[uid].info()\n",
    "        pass\n",
    "\n",
    "    def remove_item(self, title: str, item_type: str):\n",
    "        \"\"\"\n",
    "        Removes an item from the dictionary using title and item_type.\n",
    "\n",
    "        Attributes:\n",
    "            title (string): The title of the item, DVD's or Book's\n",
    "            item_type (string): The type of item, DVD or Book\n",
    "        \"\"\"\n",
    "        output = \"\"\n",
    "        uid = f\"{title}-{item_type}\"\n",
    "        try:\n",
    "            del self.items[uid]\n",
    "            output += f\"Item titled '{title}' of item type '{item_type} removed.'\"\n",
    "        except KeyError as e:\n",
    "            output += f\"Error: Item '{title}' of type '{item_type}' not found.\"\n",
    "        return output\n",
    "\n",
    "    def all_items_info(self) -> str:\n",
    "        \"\"\"\n",
    "        Prints out all the information of the items stored in the dictionary\n",
    "\n",
    "        Returns:\n",
    "            returns all the information of the items, concatenated into one string called output.\n",
    "        \"\"\"\n",
    "        output = \"\"\n",
    "        for item in self.items.values():\n",
    "            output+= item.info()+\"\\n\"\n",
    "\n",
    "        return output\n",
    "\n",
    "    def analyze_popularity(self, dataset: list) -> str:\n",
    "        \"\"\"\n",
    "        This method analyses the given dataset and then process it to see\n",
    "        how popular a certain library item is and sort them according to\n",
    "        popularity.\n",
    "\n",
    "        Attributes:\n",
    "            dataset (list): This is a list of checked out items.\n",
    "\n",
    "        Returns:\n",
    "            Display items in descending order based on popularity.\n",
    "        \"\"\"\n",
    "        for checkout in dataset:\n",
    "            self.cnt[checkout] += 1\n",
    "        \n",
    "        output = \"\"\n",
    "\n",
    "        unique_data = list(set(dataset))\n",
    "        output += \"Order of Popularity:\\n\"\n",
    "        for libItem in self.cnt.most_common():\n",
    "            item = libItem[0]\n",
    "            count = libItem[1]\n",
    "            output += f\"{item}: checked out {count} times\\n\"\n",
    "        \n",
    "        return output\n"
   ]
  },
  {
   "cell_type": "code",
   "execution_count": 60,
   "metadata": {},
   "outputs": [
    {
     "name": "stdout",
     "output_type": "stream",
     "text": [
      "DVD: Superman, Director: michael bay, Year: 2021, Duration: 2h 17m\n",
      "Book: Strauss, Author: Robert K, Year: 2011, Pages: 174\n",
      "DVD: Strauss, Director: Surr, Year: 2012, Duration: 1h 45m\n",
      "\n"
     ]
    }
   ],
   "source": [
    "# Tester\n",
    "superman = DVD(\"Superman\", 2021, \"michael bay\", \"2h 17m\")\n",
    "strauss_book = Book(\"Strauss\", 2011, \"Robert K\", 174)\n",
    "strauss_movie = DVD(\"Strauss\", 2012, \"Surr\", \"1h 45m\")\n",
    "\n",
    "my_items = LibraryManager()\n",
    "\n",
    "my_items.add_item(superman)\n",
    "my_items.add_item(strauss_book)\n",
    "my_items.add_item(strauss_movie)\n",
    "\n",
    "print(my_items.all_items_info())"
   ]
  },
  {
   "cell_type": "code",
   "execution_count": 94,
   "metadata": {},
   "outputs": [
    {
     "name": "stdout",
     "output_type": "stream",
     "text": [
      "\n",
      "Library Collection:\n",
      "Book: 1984, Author: George Orwell, Year: 1949, Pages: 328\n",
      "DVD: Inception, Director: Christopher Nolan, Year: 2010, Duration: 148\n",
      "\n",
      "\n",
      "Searching for '1984' as a Book:\n",
      "Book: 1984, Author: George Orwell, Year: 1949, Pages: 328\n",
      "\n",
      "Removing 'Sapien' as a Bok:\n",
      "Error: Item 'Sapien' of type 'Book' not found.\n",
      "Order of Popularity:\n",
      "Inception-DVD: checked out 3 times\n",
      "1984-Book: checked out 2 times\n",
      "\n"
     ]
    }
   ],
   "source": [
    "def demo_library_manager():\n",
    "    # Create instances of Book, DVD, Magazine\n",
    "    book1 = Book(title=\"1984\", publication_year=1949, author=\"George Orwell\", num_pages=328)\n",
    "    dvd1 = DVD(title=\"Inception\", publication_year=2010, director=\"Christopher Nolan\", duration=148)\n",
    "    # Initialize LibraryManager\n",
    "    manager = LibraryManager()\n",
    "    # Add items to LibraryManager\n",
    "    manager.add_item(book1)\n",
    "    manager.add_item(dvd1)\n",
    "    # Display all items\n",
    "    print(\"\\nLibrary Collection:\")\n",
    "    print(manager.all_items_info())\n",
    "    # Search for an item\n",
    "    print(\"\\nSearching for '1984' as a Book:\")\n",
    "    try:\n",
    "        print(manager.search_item(\"1984\", \"Book\"))\n",
    "    except ValueError as e:\n",
    "        print(f\"Error: {e}\")\n",
    "    # Attempt to remove a non-existent item\n",
    "    print(\"\\nRemoving 'Sapien' as a Bok:\")\n",
    "    try:\n",
    "        print(manager.remove_item(\"Sapien\", \"Book\"))\n",
    "    except ValueError as e:\n",
    "        print(f\"Error: {e}\")\n",
    "    \n",
    "    checkout_data = [\n",
    "        \"1984-Book\",                  # '1984' checked out as a Book\n",
    "        \"Inception-DVD\",              # 'Inception' checked out as a DVD\n",
    "        \"1984-Book\",                  # '1984' checked out again as a Book\n",
    "        \"Inception-DVD\",              # 'Inception' checked out again as a DVD\n",
    "        \"Inception-DVD\",              # 'Inception' checked out yet again as a DVD\n",
    "    ]\n",
    "    print(manager.analyze_popularity(checkout_data))\n",
    "\n",
    "if __name__ == \"__main__\":\n",
    "    demo_library_manager()"
   ]
  },
  {
   "cell_type": "code",
   "execution_count": 76,
   "metadata": {},
   "outputs": [
    {
     "name": "stdout",
     "output_type": "stream",
     "text": [
      "Order of Popularity:\n",
      "Inception-DVD: checked out 3 times\n",
      "1984-Book: checked out 2 times\n"
     ]
    }
   ],
   "source": [
    "# Counter class testing\n",
    "from collections import Counter\n",
    "\n",
    "checkout_data = [\n",
    "        \"1984-Book\",                  # '1984' checked out as a Book\n",
    "        \"Inception-DVD\",              # 'Inception' checked out as a DVD\n",
    "        \"1984-Book\",                  # '1984' checked out again as a Book\n",
    "        \"Inception-DVD\",              # 'Inception' checked out again as a DVD\n",
    "        \"Inception-DVD\",              # 'Inception' checked out yet again as a DVD\n",
    "    ]\n",
    "\n",
    "cnt = Counter()\n",
    "for checkout in checkout_data:\n",
    "    cnt[checkout] += 1\n",
    "\n",
    "unique_data = list(set(checkout_data))\n",
    "print(\"Order of Popularity:\")\n",
    "for libItem in cnt.most_common():\n",
    "    item = libItem[0]\n",
    "    count = libItem[1]\n",
    "    print(f\"{item}: checked out {count} times\")\n"
   ]
  },
  {
   "cell_type": "code",
   "execution_count": 18,
   "metadata": {},
   "outputs": [
    {
     "ename": "AttributeError",
     "evalue": "type object 'DVD' has no attribute 'split'",
     "output_type": "error",
     "traceback": [
      "\u001b[0;31m---------------------------------------------------------------------------\u001b[0m",
      "\u001b[0;31mAttributeError\u001b[0m                            Traceback (most recent call last)",
      "Cell \u001b[0;32mIn[18], line 2\u001b[0m\n\u001b[1;32m      1\u001b[0m spongebob \u001b[38;5;241m=\u001b[39m DVD(\u001b[38;5;124m\"\u001b[39m\u001b[38;5;124mspongebob\u001b[39m\u001b[38;5;124m\"\u001b[39m, \u001b[38;5;241m2013\u001b[39m, \u001b[38;5;124m\"\u001b[39m\u001b[38;5;124mSam\u001b[39m\u001b[38;5;124m\"\u001b[39m, \u001b[38;5;124m\"\u001b[39m\u001b[38;5;124m4h 23m\u001b[39m\u001b[38;5;124m\"\u001b[39m)\n\u001b[0;32m----> 2\u001b[0m \u001b[38;5;28;43mtype\u001b[39;49m\u001b[43m(\u001b[49m\u001b[43mspongebob\u001b[49m\u001b[43m)\u001b[49m\u001b[38;5;241;43m.\u001b[39;49m\u001b[43msplit\u001b[49m(\u001b[38;5;124m'\u001b[39m\u001b[38;5;124m.\u001b[39m\u001b[38;5;124m'\u001b[39m)\n",
      "\u001b[0;31mAttributeError\u001b[0m: type object 'DVD' has no attribute 'split'"
     ]
    }
   ],
   "source": [
    "spongebob = DVD(\"spongebob\", 2013, \"Sam\", \"4h 23m\")\n",
    "type(spongebob)\n"
   ]
  },
  {
   "cell_type": "code",
   "execution_count": null,
   "metadata": {},
   "outputs": [],
   "source": []
  }
 ],
 "metadata": {
  "kernelspec": {
   "display_name": "Python 3",
   "language": "python",
   "name": "python3"
  },
  "language_info": {
   "codemirror_mode": {
    "name": "ipython",
    "version": 3
   },
   "file_extension": ".py",
   "mimetype": "text/x-python",
   "name": "python",
   "nbconvert_exporter": "python",
   "pygments_lexer": "ipython3",
   "version": "3.9.6"
  }
 },
 "nbformat": 4,
 "nbformat_minor": 2
}

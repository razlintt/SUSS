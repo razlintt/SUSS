{
 "cells": [
  {
   "cell_type": "code",
   "execution_count": 4,
   "metadata": {},
   "outputs": [
    {
     "name": "stdout",
     "output_type": "stream",
     "text": [
      "8\n",
      "Top Speed, Genre: Racing\n"
     ]
    }
   ],
   "source": [
    "# Question 1a\n",
    "from abc import ABC, abstractmethod\n",
    "class LibraryItem(ABC): \n",
    "    def __init__(self, title: str, publication_year: int):\n",
    "        self.__title = title\n",
    "        self.__publication_year = publication_year\n",
    "\n",
    "    @abstractmethod\n",
    "    def info(self) -> str:\n",
    "        pass\n",
    "\n",
    "    @property\n",
    "    def title(self):\n",
    "        return self.__title\n",
    "    \n",
    "    @property\n",
    "    def publication_year(self):\n",
    "        return self.__publication_year\n",
    "\n",
    "# Question 1b\n",
    "class Book(LibraryItem):\n",
    "    def __init__(self, title: str, publication_year: int, author: str, num_pages: int):\n",
    "        super().__init__(title, publication_year)\n",
    "        self.__author = author\n",
    "        self.__num_pages = num_pages\n",
    "\n",
    "    @property\n",
    "    def author(self):\n",
    "        return self.__author\n",
    "    \n",
    "    @property\n",
    "    def num_pages(self):\n",
    "        return self.__num_pages\n",
    "\n",
    "    @property\n",
    "    def info(self) -> str:\n",
    "        return f\"Book: {self.title}, Author: {self.author}, Year: {self.publication_year}, Pages: {self.num_pages}\"\n",
    "\n",
    "class DVD(LibraryItem):\n",
    "    def __init__(self, title: str, publication_year: int, director: str, duration: str):\n",
    "        super().__init__(title, publication_year)\n",
    "        self.__director = director\n",
    "        self.__duration = duration\n",
    "    \n",
    "    @property\n",
    "    def director(self):\n",
    "        return self.__director\n",
    "    \n",
    "    @property\n",
    "    def duration(self):\n",
    "        return self.__duration\n",
    "    \n",
    "    @property\n",
    "    def info(self) -> str:\n",
    "        return f\"DVD: {self.title}, Director: {self.director}, Year: {self.publication_year}, Duration: {self.duration}\"\n",
    "\n",
    "    # Question 1d\n",
    "    # I am not sure if can use this to specifically specify DVD class as the param\n",
    "    def compare_duration(self, comparedDVD) -> int:\n",
    "        currentDVD_duration_h_m = self.duration.split()\n",
    "        comparedDVD_duration_h_m = comparedDVD.duration.split()\n",
    "\n",
    "        # Check total minutes for currentDVD\n",
    "        currentDVD_hour_to_mins = int(currentDVD_duration_h_m[0][:-1])*60\n",
    "        currentDVD_total_mins = currentDVD_hour_to_mins + int(currentDVD_duration_h_m[1][:-1])\n",
    "\n",
    "        # Check total minutes for comparedDVD\n",
    "        comparedDVD_hour_to_mins = int(comparedDVD_duration_h_m[0][:-1])*60\n",
    "        comparedDVD_total_mins = comparedDVD_hour_to_mins + int(comparedDVD_duration_h_m[1][:-1])\n",
    "\n",
    "        difference_in_mins = currentDVD_total_mins - comparedDVD_total_mins\n",
    "        return difference_in_mins\n",
    "    \n",
    "# Question 1c\n",
    "def demo_library_items():\n",
    "    book1 = Book(\"The Great Gatsby\", 1925, \"F. Scott Fitzgerald\", 180)\n",
    "    dvd1 = DVD(\"Inception\", 2010, \"Christopher Nolan\", \"2h 28m\")\n",
    "\n",
    "    print(book1.info)\n",
    "    print(dvd1.info)\n",
    "\n",
    "# Question 2c\n",
    "class Magazine(LibraryItem):\n",
    "    def __init__(self, title: str, publication_year: int, genre: str):\n",
    "        super().__init__(title, publication_year)\n",
    "        self.__genre = genre\n",
    "\n",
    "    @property\n",
    "    def genre(self):\n",
    "        return self.__genre\n",
    "    \n",
    "    def info(self):\n",
    "        return f\"{self.title}, Genre: {self.genre}\"\n",
    "    \n",
    "\n",
    "if __name__ == \"__main__\":\n",
    "    # demo_library_items()\n",
    "    inception = DVD(\"Inception\", 2010, \"Christopher Nolan\", \"2h 57m\")\n",
    "    interstellar = DVD(\"Interstellar\", 2014, \"Christoper Nolan\", \"2h 49m\")\n",
    "\n",
    "    print(inception.compare_duration(interstellar))\n",
    "    maggi = Magazine(\"Top Speed\", 2025, \"Racing\")\n",
    "    print(maggi.info())\n",
    "\n",
    "\n"
   ]
  },
  {
   "cell_type": "code",
   "execution_count": 6,
   "metadata": {},
   "outputs": [
    {
     "ename": "TypeError",
     "evalue": "Can't instantiate abstract class hello without an implementation for abstract method 'bobian'",
     "output_type": "error",
     "traceback": [
      "\u001b[1;31m---------------------------------------------------------------------------\u001b[0m",
      "\u001b[1;31mTypeError\u001b[0m                                 Traceback (most recent call last)",
      "Cell \u001b[1;32mIn[6], line 18\u001b[0m\n\u001b[0;32m     15\u001b[0m         \u001b[38;5;28msuper\u001b[39m()\u001b[38;5;241m.\u001b[39m\u001b[38;5;21m__init__\u001b[39m(name)\n\u001b[0;32m     16\u001b[0m         __address__ \u001b[38;5;241m=\u001b[39m address\n\u001b[1;32m---> 18\u001b[0m h \u001b[38;5;241m=\u001b[39m hello(\u001b[38;5;124m\"\u001b[39m\u001b[38;5;124mJohn\u001b[39m\u001b[38;5;124m\"\u001b[39m, \u001b[38;5;124m\"\u001b[39m\u001b[38;5;124m123 Street\u001b[39m\u001b[38;5;124m\"\u001b[39m)\n",
      "\u001b[1;31mTypeError\u001b[0m: Can't instantiate abstract class hello without an implementation for abstract method 'bobian'"
     ]
    }
   ],
   "source": [
    "# Testing for learning purposes, not for TMA.\n",
    "class absClass(ABC):\n",
    "    def __init__(self, name):\n",
    "        __name__ = name\n",
    "\n",
    "    @abstractmethod\n",
    "    def bobian(self):\n",
    "        pass\n",
    "\n",
    "    def maybeNot(self):\n",
    "        pass\n",
    "\n",
    "class hello(absClass):\n",
    "    def __init__(self, name, address):\n",
    "        super().__init__(name)\n",
    "        __address__ = address\n",
    "\n",
    "h = hello(\"John\", \"123 Street\")"
   ]
  },
  {
   "cell_type": "code",
   "execution_count": 7,
   "metadata": {},
   "outputs": [
    {
     "name": "stdout",
     "output_type": "stream",
     "text": [
      "Error: Can't instantiate abstract class LibraryItem without an implementation for abstract method 'info'\n"
     ]
    }
   ],
   "source": [
    "# Question 3\n",
    "# Error 1\n",
    "try:\n",
    "    err_one = LibraryItem()\n",
    "except TypeError as e:\n",
    "    print(f\"Error: {e}\")"
   ]
  },
  {
   "cell_type": "code",
   "execution_count": 8,
   "metadata": {},
   "outputs": [
    {
     "name": "stdout",
     "output_type": "stream",
     "text": [
      "Error: Can't instantiate abstract class IncompleteItem without an implementation for abstract method 'info'\n"
     ]
    }
   ],
   "source": [
    "# Question 3\n",
    "# Error 2\n",
    "class IncompleteItem(LibraryItem):\n",
    "    pass\n",
    "try:\n",
    "    err_two = IncompleteItem()\n",
    "except TypeError as e:\n",
    "    print(f\"Error: {e}\")"
   ]
  },
  {
   "cell_type": "code",
   "execution_count": 9,
   "metadata": {},
   "outputs": [
    {
     "name": "stdout",
     "output_type": "stream",
     "text": [
      "Error: 'Book' object has no attribute 'genre'\n"
     ]
    }
   ],
   "source": [
    "# Question 3\n",
    "# Error 3\n",
    "\n",
    "err_three = Book(\"48 Laws of Power\", 1998, \"Robert Greene\", 496)\n",
    "try:\n",
    "    err_three.genre()\n",
    "except AttributeError as e:\n",
    "    print(f\"Error: {e}\")"
   ]
  },
  {
   "cell_type": "code",
   "execution_count": 10,
   "metadata": {},
   "outputs": [
    {
     "name": "stdout",
     "output_type": "stream",
     "text": [
      "Error: DVD.__init__() missing 2 required positional arguments: 'director' and 'duration'\n"
     ]
    }
   ],
   "source": [
    "# Question 3\n",
    "# Error 4\n",
    "try:\n",
    "    err_four = DVD(\"Cars\", 2006)\n",
    "except TypeError as e:\n",
    "    print(f\"Error: {e}\")"
   ]
  },
  {
   "cell_type": "code",
   "execution_count": 11,
   "metadata": {},
   "outputs": [
    {
     "name": "stdout",
     "output_type": "stream",
     "text": [
      "Error: 'BrokenBook' object has no attribute 'num_pages'\n"
     ]
    }
   ],
   "source": [
    "# Question 3\n",
    "# Error 5\n",
    "\n",
    "class BrokenBook(LibraryItem):\n",
    "    def info(self):\n",
    "        pass\n",
    "\n",
    "\n",
    "err_five = BrokenBook(\"Laws of 48 Powers\", 2042)\n",
    "try:\n",
    "    err_five.num_pages\n",
    "except AttributeError as e:\n",
    "    print(f\"Error: {e}\")\n"
   ]
  },
  {
   "cell_type": "code",
   "execution_count": null,
   "metadata": {},
   "outputs": [],
   "source": [
    "class LibraryManager:\n",
    "    def __init__():\n",
    "        collectionLibItems = {}\n",
    "        pass\n",
    "\n",
    "    def add_item(item: LibraryItem):\n",
    "        pass\n",
    "\n",
    "    def search_item(title: str, item_type: str) -> str:\n",
    "        pass\n",
    "\n",
    "    def remove_item(title: str, item_type: str):\n",
    "        pass\n",
    "    \n",
    "    def all_items_info() -> str:\n",
    "        pass\n",
    "\n",
    "    def analyze_popularity(dataset: list) -> str:\n",
    "        pass\n"
   ]
  }
 ],
 "metadata": {
  "kernelspec": {
   "display_name": "base",
   "language": "python",
   "name": "python3"
  },
  "language_info": {
   "codemirror_mode": {
    "name": "ipython",
    "version": 3
   },
   "file_extension": ".py",
   "mimetype": "text/x-python",
   "name": "python",
   "nbconvert_exporter": "python",
   "pygments_lexer": "ipython3",
   "version": "3.12.7"
  }
 },
 "nbformat": 4,
 "nbformat_minor": 2
}

{
 "cells": [
  {
   "cell_type": "code",
   "execution_count": null,
   "metadata": {},
   "outputs": [],
   "source": [
    "from abc import ABC, abstractmethod\n",
    "class LibraryItem(ABC):\n",
    "    def __init__(self, title: str, publication_year: int):\n",
    "        self.__title = title\n",
    "        self.__publication_year = publication_year\n",
    "\n",
    "    @abstractmethod\n",
    "    def info(self) -> str:\n",
    "        pass\n",
    "\n",
    "class Book(LibraryItem):\n",
    "    def __init__(self, title: str, publication_year: int, author: str, num_pages: int):\n",
    "        super().__init__(title, publication_year)\n",
    "        self.__author = author\n",
    "        self.__num_pages = num_pages\n",
    "\n",
    "    @property\n",
    "    def info() -> str:\n",
    "        print(\"Author: \", self.__author)\n",
    "\n",
    "class DVD(LibraryItem):\n",
    "    def __init__(title: str, publication_year: int, director: str, duration: str):\n",
    "        super().__init__(title, publication_year)\n",
    "        self.__director = director\n",
    "        self.__duration = duration\n",
    "    \n",
    "    @property\n",
    "    def info() -> str:\n",
    "        pass"
   ]
  },
  {
   "cell_type": "markdown",
   "metadata": {},
   "source": []
  }
 ],
 "metadata": {
  "kernelspec": {
   "display_name": "Python 3",
   "language": "python",
   "name": "python3"
  },
  "language_info": {
   "name": "python",
   "version": "3.12.3"
  }
 },
 "nbformat": 4,
 "nbformat_minor": 2
}
